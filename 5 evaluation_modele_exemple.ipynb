{
 "cells": [
  {
   "cell_type": "markdown",
   "metadata": {
    "collapsed": true
   },
   "source": [
    "# Chapitre 5 : Evaluation d'un modèle (Exemples)\n",
    "Email : <a href='mailto:madani.a@ucd.ac.ma'>madani.a@ucd.ac.ma</a>\n",
    "<img src='images/robot.png'>"
   ]
  },
  {
   "cell_type": "markdown",
   "metadata": {},
   "source": [
    "Nous allons commencer par importer le dataset Iris que nous allons utiliser dans les exemples de ce chapitre"
   ]
  },
  {
   "cell_type": "code",
   "execution_count": 5,
   "metadata": {},
   "outputs": [
    {
     "name": "stdout",
     "output_type": "stream",
     "text": [
      "(150, 4) (150,)\n"
     ]
    }
   ],
   "source": [
    "# Importer load_iris() permettant de charger le dataset Iris\n",
    "from sklearn.datasets import load_iris\n",
    "# Charger le dataset Iris\n",
    "iris = load_iris()\n",
    "# X : données\n",
    "X = iris.data\n",
    "# y : classes\n",
    "y = iris.target\n",
    "#Vérifier la structure de X et y\n",
    "print(X.shape, y.shape)"
   ]
  },
  {
   "cell_type": "code",
   "execution_count": null,
   "metadata": {
    "collapsed": true
   },
   "outputs": [],
   "source": []
  },
  {
   "cell_type": "markdown",
   "metadata": {},
   "source": [
    "## Procédure d'évaluation  #1: Entraîner et tester sur le dataset entier"
   ]
  },
  {
   "cell_type": "markdown",
   "metadata": {},
   "source": [
    "Cette procédure consiste à :\n",
    "<ul>\n",
    "<li>Entraîner le modèle sur <b>le dataset en entier</b></li>\n",
    "<li>Tester le modèle sur <b>le même dataset</b>, et évaluer à quel point nous avons <b>bien comparé</b> les valeurs de <b>classess prédites</b> avec les vraies valeurs de réponse.</li>\n",
    "</ul>"
   ]
  },
  {
   "cell_type": "markdown",
   "metadata": {},
   "source": [
    "### Exemple : Cas de la regression logistique"
   ]
  },
  {
   "cell_type": "code",
   "execution_count": 6,
   "metadata": {},
   "outputs": [
    {
     "data": {
      "text/plain": [
       "array([0, 0, 0, 0, 0, 0, 0, 0, 0, 0, 0, 0, 0, 0, 0, 0, 0, 0, 0, 0, 0, 0, 0,\n",
       "       0, 0, 0, 0, 0, 0, 0, 0, 0, 0, 0, 0, 0, 0, 0, 0, 0, 0, 0, 0, 0, 0, 0,\n",
       "       0, 0, 0, 0, 1, 1, 1, 1, 1, 1, 1, 1, 1, 1, 1, 1, 1, 1, 1, 1, 2, 1, 1,\n",
       "       1, 2, 1, 1, 1, 1, 1, 1, 1, 1, 1, 1, 1, 1, 2, 2, 2, 1, 1, 1, 1, 1, 1,\n",
       "       1, 1, 1, 1, 1, 1, 1, 1, 2, 2, 2, 2, 2, 2, 2, 2, 2, 2, 2, 2, 2, 2, 2,\n",
       "       2, 2, 2, 2, 2, 2, 2, 2, 2, 2, 2, 2, 2, 2, 1, 2, 2, 2, 2, 2, 2, 2, 2,\n",
       "       2, 2, 2, 2, 2, 2, 2, 2, 2, 2, 2, 2])"
      ]
     },
     "execution_count": 6,
     "metadata": {},
     "output_type": "execute_result"
    }
   ],
   "source": [
    "# importer la classe LogisticRegression\n",
    "from sklearn.linear_model import LogisticRegression\n",
    "\n",
    "# instantier le modèle (en utilisant les valeurs par défaut des paramètres)\n",
    "logreg = LogisticRegression()\n",
    "\n",
    "# entraîner le modèle en utilisant les données du dataset\n",
    "logreg.fit(X, y)\n",
    "\n",
    "# predire les valeurs des classes pour les observations contenu dans X\n",
    "logreg.predict(X)"
   ]
  },
  {
   "cell_type": "code",
   "execution_count": 7,
   "metadata": {},
   "outputs": [
    {
     "data": {
      "text/plain": [
       "150"
      ]
     },
     "execution_count": 7,
     "metadata": {},
     "output_type": "execute_result"
    }
   ],
   "source": [
    "# stocker les valeurs des classes prédites\n",
    "y_pred = logreg.predict(X)\n",
    "\n",
    "# combien de prédictions ont été générées\n",
    "len(y_pred)"
   ]
  },
  {
   "cell_type": "markdown",
   "metadata": {},
   "source": [
    "### Précision de classification :\n",
    "<ul>\n",
    "<li>Donne la <b>proportion de prédictions correctes</b></li>\n",
    "<li>C'est une <b>mesure d'évaluation</b> commune pour les problèmes de classification</li>\n",
    "</ul>"
   ]
  },
  {
   "cell_type": "code",
   "execution_count": 8,
   "metadata": {},
   "outputs": [
    {
     "name": "stdout",
     "output_type": "stream",
     "text": [
      "0.96\n"
     ]
    }
   ],
   "source": [
    "# calculer la précision de la classification pour le modèle de la regression logistique\n",
    "from sklearn import metrics\n",
    "print(metrics.accuracy_score(y, y_pred))"
   ]
  },
  {
   "cell_type": "markdown",
   "metadata": {},
   "source": [
    "## Exemple : Cas de KNN avec différentes valeurs de K\n",
    "\n",
    "### K=5"
   ]
  },
  {
   "cell_type": "code",
   "execution_count": 9,
   "metadata": {},
   "outputs": [
    {
     "name": "stdout",
     "output_type": "stream",
     "text": [
      "0.966666666667\n"
     ]
    }
   ],
   "source": [
    "from sklearn.neighbors import KNeighborsClassifier\n",
    "knn = KNeighborsClassifier(n_neighbors=5)\n",
    "knn.fit(X, y)\n",
    "y_pred = knn.predict(X)\n",
    "print(metrics.accuracy_score(y, y_pred))"
   ]
  },
  {
   "cell_type": "markdown",
   "metadata": {},
   "source": [
    "### K=1"
   ]
  },
  {
   "cell_type": "code",
   "execution_count": 10,
   "metadata": {},
   "outputs": [
    {
     "name": "stdout",
     "output_type": "stream",
     "text": [
      "1.0\n"
     ]
    }
   ],
   "source": [
    "knn = KNeighborsClassifier(n_neighbors=1)\n",
    "knn.fit(X, y)\n",
    "y_pred = knn.predict(X)\n",
    "print(metrics.accuracy_score(y, y_pred))"
   ]
  },
  {
   "cell_type": "markdown",
   "metadata": {},
   "source": [
    "## Procédure d'évaluation #2 : Train/Test Split\n",
    "<ul>\n",
    "<li>Diviser l'ensemble de données en deux parties: un ensemble d'entraînement et un ensemble de tests.</li>\n",
    "<li>Entraînez le modèle sur l'ensemble d'entraînement.</li>\n",
    "<li>Testez le modèle sur l'ensemble de tests et évaluez notre performance.</li>\n",
    "</ul>"
   ]
  },
  {
   "cell_type": "code",
   "execution_count": 11,
   "metadata": {},
   "outputs": [
    {
     "name": "stdout",
     "output_type": "stream",
     "text": [
      "(150, 4)\n",
      "(150,)\n"
     ]
    }
   ],
   "source": [
    "# afficher les structures de X et y\n",
    "print(X.shape)\n",
    "print(y.shape)"
   ]
  },
  {
   "cell_type": "code",
   "execution_count": 20,
   "metadata": {},
   "outputs": [],
   "source": [
    "# étape 1: diviser X et y en deux sous-ensembles : sous-ensemble d'entrainement et sous-ensemble de test\n",
    "from sklearn.cross_validation import train_test_split\n",
    "X_train, X_test, y_train, y_test = train_test_split(X, y, test_size=0.4, random_state=4)"
   ]
  },
  {
   "cell_type": "markdown",
   "metadata": {},
   "source": [
    "<img src=\"images/train_test_split.png\">"
   ]
  },
  {
   "cell_type": "markdown",
   "metadata": {},
   "source": [
    "Qu'est-ce que nous avons accompli ?\n",
    "<ul>\n",
    "<li>Le modèle peut être entraîné et testé sur différentes données\n",
    "<li>Les valeurs de réponse sont connues pour l'ensemble de test, et donc les prédictions peuvent être évaluées\n",
    "</ul>"
   ]
  },
  {
   "cell_type": "code",
   "execution_count": 13,
   "metadata": {},
   "outputs": [
    {
     "name": "stdout",
     "output_type": "stream",
     "text": [
      "(90, 4)\n",
      "(60, 4)\n"
     ]
    }
   ],
   "source": [
    "# afficher les structures des nouveaux objets X \n",
    "print(X_train.shape)\n",
    "print(X_test.shape)"
   ]
  },
  {
   "cell_type": "code",
   "execution_count": 14,
   "metadata": {},
   "outputs": [
    {
     "name": "stdout",
     "output_type": "stream",
     "text": [
      "(90,)\n",
      "(60,)\n"
     ]
    }
   ],
   "source": [
    "# afficher les structures des nouveaux objets y\n",
    "print(y_train.shape)\n",
    "print(y_test.shape)"
   ]
  },
  {
   "cell_type": "code",
   "execution_count": 15,
   "metadata": {},
   "outputs": [
    {
     "data": {
      "text/plain": [
       "LogisticRegression(C=1.0, class_weight=None, dual=False, fit_intercept=True,\n",
       "          intercept_scaling=1, max_iter=100, multi_class='ovr', n_jobs=1,\n",
       "          penalty='l2', random_state=None, solver='liblinear', tol=0.0001,\n",
       "          verbose=0, warm_start=False)"
      ]
     },
     "execution_count": 15,
     "metadata": {},
     "output_type": "execute_result"
    }
   ],
   "source": [
    "# étpage 2: entraîner le modèle sur l'ensemble d'entraînement\n",
    "logreg = LogisticRegression()\n",
    "logreg.fit(X_train, y_train)"
   ]
  },
  {
   "cell_type": "code",
   "execution_count": 16,
   "metadata": {},
   "outputs": [
    {
     "name": "stdout",
     "output_type": "stream",
     "text": [
      "0.95\n"
     ]
    }
   ],
   "source": [
    "# étape 3: faire des prédictions sur l'ensemble de test\n",
    "y_pred = logreg.predict(X_test)\n",
    "\n",
    "# comparer les valeurs des classes actuelles (y_test) avec les valeurs des classes prédites (y_pred)\n",
    "print(metrics.accuracy_score(y_test, y_pred))"
   ]
  },
  {
   "cell_type": "markdown",
   "metadata": {},
   "source": [
    "Essayons avec KNN pour K=5:"
   ]
  },
  {
   "cell_type": "code",
   "execution_count": 17,
   "metadata": {},
   "outputs": [
    {
     "name": "stdout",
     "output_type": "stream",
     "text": [
      "0.966666666667\n"
     ]
    }
   ],
   "source": [
    "knn = KNeighborsClassifier(n_neighbors=5)\n",
    "knn.fit(X_train, y_train)\n",
    "y_pred = knn.predict(X_test)\n",
    "print(metrics.accuracy_score(y_test, y_pred))"
   ]
  },
  {
   "cell_type": "markdown",
   "metadata": {},
   "source": [
    "Essayons avec KNN pour K=1:"
   ]
  },
  {
   "cell_type": "code",
   "execution_count": 18,
   "metadata": {},
   "outputs": [
    {
     "name": "stdout",
     "output_type": "stream",
     "text": [
      "0.95\n"
     ]
    }
   ],
   "source": [
    "knn = KNeighborsClassifier(n_neighbors=1)\n",
    "knn.fit(X_train, y_train)\n",
    "y_pred = knn.predict(X_test)\n",
    "print(metrics.accuracy_score(y_test, y_pred))"
   ]
  },
  {
   "cell_type": "markdown",
   "metadata": {},
   "source": [
    "Comment peut-on définir la meilleure valeur de K?"
   ]
  },
  {
   "cell_type": "code",
   "execution_count": 23,
   "metadata": {},
   "outputs": [
    {
     "name": "stdout",
     "output_type": "stream",
     "text": [
      "Pour k = 1  Score = 0.95\n",
      "Pour k = 2  Score = 0.95\n",
      "Pour k = 3  Score = 0.966666666667\n",
      "Pour k = 4  Score = 0.966666666667\n",
      "Pour k = 5  Score = 0.966666666667\n",
      "Pour k = 6  Score = 0.983333333333\n",
      "Pour k = 7  Score = 0.983333333333\n",
      "Pour k = 8  Score = 0.983333333333\n",
      "Pour k = 9  Score = 0.983333333333\n",
      "Pour k = 10  Score = 0.983333333333\n",
      "Pour k = 11  Score = 0.983333333333\n",
      "Pour k = 12  Score = 0.983333333333\n",
      "Pour k = 13  Score = 0.983333333333\n",
      "Pour k = 14  Score = 0.983333333333\n",
      "Pour k = 15  Score = 0.983333333333\n",
      "Pour k = 16  Score = 0.983333333333\n",
      "Pour k = 17  Score = 0.983333333333\n",
      "Pour k = 18  Score = 0.966666666667\n",
      "Pour k = 19  Score = 0.983333333333\n",
      "Pour k = 20  Score = 0.966666666667\n",
      "Pour k = 21  Score = 0.966666666667\n",
      "Pour k = 22  Score = 0.966666666667\n",
      "Pour k = 23  Score = 0.966666666667\n",
      "Pour k = 24  Score = 0.95\n",
      "Pour k = 25  Score = 0.95\n"
     ]
    }
   ],
   "source": [
    "# Essayer pour K=1 à K=25 et enregistrer les précisions des tests\n",
    "k_range = list(range(1, 26))\n",
    "scores = []\n",
    "for k in k_range:\n",
    "    knn = KNeighborsClassifier(n_neighbors=k)\n",
    "    knn.fit(X_train, y_train)\n",
    "    y_pred = knn.predict(X_test)\n",
    "    #scores.append(metrics.accuracy_score(y_test, y_pred))\n",
    "    print(\"Pour k =\",k,\" Score =\",metrics.accuracy_score(y_test, y_pred))"
   ]
  }
 ],
 "metadata": {
  "kernelspec": {
   "display_name": "Python 3",
   "language": "python",
   "name": "python3"
  },
  "language_info": {
   "codemirror_mode": {
    "name": "ipython",
    "version": 3
   },
   "file_extension": ".py",
   "mimetype": "text/x-python",
   "name": "python",
   "nbconvert_exporter": "python",
   "pygments_lexer": "ipython3",
   "version": "3.6.3"
  }
 },
 "nbformat": 4,
 "nbformat_minor": 2
}
